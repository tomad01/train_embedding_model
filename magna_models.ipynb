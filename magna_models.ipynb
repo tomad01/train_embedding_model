{
 "cells": [
  {
   "cell_type": "code",
   "execution_count": 3,
   "metadata": {},
   "outputs": [
    {
     "name": "stderr",
     "output_type": "stream",
     "text": [
      "100%|██████████| 7/7 [00:02<00:00,  3.13it/s]\n"
     ]
    },
    {
     "name": "stdout",
     "output_type": "stream",
     "text": [
      "140321\n"
     ]
    }
   ],
   "source": [
    "import pandas as pd\n",
    "import json, os\n",
    "from tqdm import tqdm\n",
    "\n",
    "path = \"/Users/DToma/data/Rhenus_StartingFrom_20240101_20240701\"\n",
    "\n",
    "file = \"response_07-2024.json\"\n",
    "\n",
    "data = []\n",
    "for file in tqdm(os.listdir(path)):\n",
    "  if file.endswith(\".json\"):\n",
    "    with open(os.path.join(path, file), \"r\") as f:\n",
    "        data.extend(json.load(f))\n",
    "print(len(data))\n",
    "data = pd.DataFrame(data)"
   ]
  },
  {
   "cell_type": "code",
   "execution_count": 4,
   "metadata": {},
   "outputs": [
    {
     "data": {
      "text/plain": [
       "Index(['TicketNr', 'TicketSummary', 'TicketDescription', 'CreatedAt',\n",
       "       'CreatedByID', 'CreatedByString', 'ImpactedUser', 'ImpactedUserString',\n",
       "       'AssignedToID', 'AssignedToString', 'RecipientRoleID',\n",
       "       'RecipientRoleString', 'ImpactValue', 'ImpactString', 'UrgencyValue',\n",
       "       'UrgencyString', 'PriorityValue', 'PriorityString', 'StatusValue',\n",
       "       'StatusString', 'EntryByValue', 'EntryByString', 'ServiceAffected',\n",
       "       'ServiceAffectedPortalName', 'AssetAffected', 'AssetAffectedName',\n",
       "       'ServiceReported', 'ServiceReportedPortalName', 'AssetReported',\n",
       "       'AssetReportedName', 'SLAID', 'SLAString', 'Type',\n",
       "       'Expression-TypeCase', 'Expression-TypeID'],\n",
       "      dtype='object')"
      ]
     },
     "execution_count": 4,
     "metadata": {},
     "output_type": "execute_result"
    }
   ],
   "source": [
    "data.columns"
   ]
  },
  {
   "cell_type": "code",
   "execution_count": 5,
   "metadata": {},
   "outputs": [
    {
     "name": "stdout",
     "output_type": "stream",
     "text": [
      "\n",
      "\n",
      "ServiceAffected: unique items: 1011 missing values percent: 9.998503431417964%\n",
      "ServiceAffectedPortalName: unique items: 891 missing values percent: 42.672158835812176%\n",
      "ServiceReported: unique items: 692 missing values percent: 3.3708425681116867%\n",
      "ServiceReportedPortalName: unique items: 598 missing values percent: 37.897392407408724%\n"
     ]
    }
   ],
   "source": [
    "cnt = 1 \n",
    "for col in data.columns:\n",
    "    # if col in ['SLAString', 'SLAID']:\n",
    "    #     print(f\"{col}: unique items: {data[col].nunique()} missing values percent: {data[col].isna().sum()*100/len(data)}%\")\n",
    "    # if col in ['TicketSummary', 'TicketDescription', 'CreatedAt','ServiceAffected','ImpactString','UrgencyString']:\n",
    "    #     print(f\"{col}: unique items: {data[col].nunique()} missing values percent: {data[col].isna().sum()*100/len(data)}%\")\n",
    "    # if col in ['EntryByValue', 'EntryByString','CreatedByID', 'CreatedByString', 'ImpactedUser', 'ImpactedUserString','AssignedToID', 'AssignedToString', 'RecipientRoleID','RecipientRoleString']:\n",
    "    #     print(f\"{col}: unique items: {data[col].nunique()} missing values percent: {data[col].isna().sum()*100/len(data)}%\")\n",
    "\n",
    "    if col in [ 'ServiceAffected','ServiceAffectedPortalName','ServiceReported', 'ServiceReportedPortalName']:\n",
    "        if cnt:\n",
    "            print(\"\\n\")\n",
    "            cnt = 0\n",
    "        print(f\"{col}: unique items: {data[col].nunique()} missing values percent: {data[col].isna().sum()*100/len(data)}%\")"
   ]
  },
  {
   "cell_type": "code",
   "execution_count": 5,
   "metadata": {},
   "outputs": [
    {
     "data": {
      "text/plain": [
       "ServiceAffectedPortalName\n",
       "RSD-IT-Support                  10245\n",
       "SAP                              3647\n",
       "Mail Service mit Lotus Notes     3621\n",
       "FGER-LWIS                        3370\n",
       "FGER-LOXX Standard               3025\n",
       "RAS-SUPPORT                      2667\n",
       "FEU-PL-TMS-General               2390\n",
       "RML-Network                      2247\n",
       "FEU-PL General                   1657\n",
       "RSND-Einkauf                     1562\n",
       "Name: count, dtype: int64"
      ]
     },
     "execution_count": 5,
     "metadata": {},
     "output_type": "execute_result"
    }
   ],
   "source": [
    "data['ServiceAffectedPortalName'].value_counts()[:10]"
   ]
  },
  {
   "cell_type": "code",
   "execution_count": 4,
   "metadata": {},
   "outputs": [
    {
     "data": {
      "text/plain": [
       "UrgencyString\n",
       "C: Continued work is possible                     73747\n",
       "B: Continued work is possible with limitations    63287\n",
       "A: Continued work is not possible                  3287\n",
       "Name: count, dtype: int64"
      ]
     },
     "execution_count": 4,
     "metadata": {},
     "output_type": "execute_result"
    }
   ],
   "source": [
    "data['UrgencyString'].value_counts()"
   ]
  },
  {
   "cell_type": "code",
   "execution_count": 5,
   "metadata": {},
   "outputs": [
    {
     "data": {
      "text/plain": [
       "TicketDescription\n",
       "Please use an HTML-capable email client to correctly display this email. Alternatively, switch to 'Text' format in the notification settings.\\r\\n                                                                                                                                                                                                                                                                                                                                                                                                                                                                                                                                                                                                                              3173\n",
       "Empty E-mail Message                                                                                                                                                                                                                                                                                                                                                                                                                                                                                                                                                                                                                                                                                                                                                            300\n",
       "Die Daten befinden sich im Anhang.                                                                                                                                                                                                                                                                                                                                                                                                                                                                                                                                                                                                                                                                                                                                              177\n",
       "Manually Added\\tSuccess\\t\\r\\nAssigned\\t1\\tSuccess\\t1\\tNo new hosts found.\\r\\n\\t\\r\\nSeen\\t1\\tWarnings\\t0\\t\\r\\nUpdated\\t0\\tErrors\\t0\\t\\r\\nName\\tIP address\\tStatus\\tOperating System\\tDetails\\t\\r\\nDEDUI05-WIS002.rhs.zz\\t10.250.25.135\\tSuccess\\tMicrosoft Windows Server 2016 (1607, 64-bit)\\tBackup agent installation is not required\\r\\n  \\t\\r\\n \\t\\r\\n                    Veeam Backup & Replication 12.0.0.1420 P20230718                                                                                                                                                                                                                                                                                                                                                  147\n",
       "Teammeeting IT West/Nord\\r\\n\\r\\n\\r\\nRHSIncidentClassCustom.Melder::standort.dedtm14@matrix.zz;;\\r\\n\\r\\nRHSIncidentClassCustom.customerLocation::DEDTM14;;\\r\\n\\r\\nSPSActivityClassIncident.ServiceAffected::CLSIT-Organisation;;\\r\\n\\r\\nSPSActivityClassIncident.AssetAffected::CLSIT-Meeting;;\\r\\n\\r\\nSPSActivityClassBase.RecipientRole::CLSIT-Onsite_West_Nord;;\\r\\n\\r\\nSPSActivityClassBase.Category::5) Sonstiges;;\\r\\n\\r\\nverbrauchte Zeit: nach Aufwand\\r\\n\\r\\n\\r\\n                                                                                                                                                                                                                                                                                                       128\n",
       "                                                                                                                                                                                                                                                                                                                                                                                                                                                                                                                                                                                                                                                                                                                                                                               ... \n",
       "Sehr geehrte Damen, sehr geehrte Herren,\\r\\n\\r\\nder Auftrag 8456939526164\" konnte auf Grund des folgenden Fehlers nicht an das TMS übertragen werden:\\r\\n\\r\\nAuftragsnummer: 8456939526164\\r\\nMandant: WEWI\\r\\nFehler: OtherError - Xsd Validate failed: The 'TransportType' element is invalid - The value '#' is invalid according to its datatype 'String' - The Enumeration constraint failed.\\r\\n\\r\\nMit freundlichen Grüßen\\r\\nLobster _pro Administrator\\r\\n                                                                                                                                                                                                                                                                                                               1\n",
       "Sehr geehrte Damen, sehr geehrte Herren,\\r\\n\\r\\nder Auftrag 8516761523980\" konnte auf Grund des folgenden Fehlers nicht an das TMS übertragen werden:\\r\\n\\r\\nAuftragsnummer: 8516761523980\\r\\nMandant: WEWI\\r\\nFehler: OtherError - Xsd Validate failed: The 'TransportType' element is invalid - The value '#' is invalid according to its datatype 'String' - The Enumeration constraint failed.\\r\\n\\r\\nMit freundlichen Grüßen\\r\\nLobster _pro Administrator\\r\\n                                                                                                                                                                                                                                                                                                               1\n",
       "Sehr geehrte Damen, sehr geehrte Herren,\\r\\n\\r\\nder Auftrag 8234141526998\" konnte auf Grund des folgenden Fehlers nicht an das TMS übertragen werden:\\r\\n\\r\\nAuftragsnummer: 8234141526998\\r\\nMandant: WEWI\\r\\nFehler: OtherError - Xsd Validate failed: The 'TransportType' element is invalid - The value '#' is invalid according to its datatype 'String' - The Enumeration constraint failed.\\r\\n\\r\\nMit freundlichen Grüßen\\r\\nLobster _pro Administrator\\r\\n                                                                                                                                                                                                                                                                                                               1\n",
       "Sehr geehrte Damen, sehr geehrte Herren,\\r\\n\\r\\nder Auftrag 8678961527896\" konnte auf Grund des folgenden Fehlers nicht an das TMS übertragen werden:\\r\\n\\r\\nAuftragsnummer: 8678961527896\\r\\nMandant: WEWI\\r\\nFehler: OtherError - Xsd Validate failed: The 'TransportType' element is invalid - The value '#' is invalid according to its datatype 'String' - The Enumeration constraint failed.\\r\\n\\r\\nMit freundlichen Grüßen\\r\\nLobster _pro Administrator\\r\\n                                                                                                                                                                                                                                                                                                               1\n",
       "Asset Clearing WSS IT Team Mitte ( ohne OEG )\\r\\n\\r\\n\\r\\nRHSIncidentClassCustom.Melder::standort.degie12@matrix.zz;;\\r\\n\\r\\nRHSIncidentClassCustom.customerLocation::DEGIE12;;\\r\\n\\r\\nSPSActivityClassIncident.ServiceAffected::CLSIT-Organisation;;\\r\\n\\r\\nSPSActivityClassIncident.AssetAffected::CLSIT-Assets;;\\r\\n\\r\\nSPSActivityClassBase.RecipientRole::CLSIT-Onsite_Mitte;;\\r\\n\\r\\nSPSActivityClassBase.Category::5) Sonstiges;;\\r\\n\\r\\nverbrauchte Zeit: nach Aufwand\\r\\n\\r\\n\\r\\n\\r\\nAsset Clearing - IT Infrastructure INTERN - CL Warehousing Solutions (rhenus.com)\\r\\n\\r\\nhttps://urldefense.com/v3/__https://rhen.us/ESM_AssetClearing__;!!Iy-eiNsJYb8-!T1OKUrVp-GhREL5RPFbLabEpM6e1RYckrSZ6Mna01ZzWoEhgAGYYN5jc2189zzSdDeIWyjQmRO_JhBLTn0Zl0GZ1gqpwCYnQ$ \\r\\n       1\n",
       "Name: count, Length: 114830, dtype: int64"
      ]
     },
     "execution_count": 5,
     "metadata": {},
     "output_type": "execute_result"
    }
   ],
   "source": [
    "data['TicketDescription'].value_counts()"
   ]
  },
  {
   "cell_type": "code",
   "execution_count": 7,
   "metadata": {},
   "outputs": [
    {
     "data": {
      "text/plain": [
       "TicketSummary\n",
       "MATRIX PersonImport                                               936\n",
       "[PRTG Network Monitor] 25 Summarized Notifications                860\n",
       "[DEMHG01_D] Integrator Transaction Failure                        677\n",
       "Sandbox: E-Mail-Vorgangserfassung: Fehler bei der Verarbeitung    648\n",
       "[DENUE01_P] Background service failed                             614\n",
       "                                                                 ... \n",
       "[PROBLEM] Host deulz01-apr057 is DOWN!                              1\n",
       "[PROBLEM] Host deulz01-apr083 is DOWN!                              1\n",
       "[PROBLEM] Host deulz01-apr093 is DOWN!                              1\n",
       "[PROBLEM] Host deulz01-apr164 is DOWN!                              1\n",
       "Asset Clearing WSS IT Team Mitte - Mon 06/24/2024                   1\n",
       "Name: count, Length: 112686, dtype: int64"
      ]
     },
     "execution_count": 7,
     "metadata": {},
     "output_type": "execute_result"
    }
   ],
   "source": [
    "data['TicketSummary'].value_counts()"
   ]
  },
  {
   "cell_type": "code",
   "execution_count": 1,
   "metadata": {},
   "outputs": [
    {
     "name": "stderr",
     "output_type": "stream",
     "text": [
      "/Users/DToma/miniconda3/envs/pyml/lib/python3.11/site-packages/sentence_transformers/cross_encoder/CrossEncoder.py:13: TqdmWarning: IProgress not found. Please update jupyter and ipywidgets. See https://ipywidgets.readthedocs.io/en/stable/user_install.html\n",
      "  from tqdm.autonotebook import tqdm, trange\n"
     ]
    }
   ],
   "source": [
    "from sentence_transformers import SentenceTransformer\n"
   ]
  },
  {
   "cell_type": "code",
   "execution_count": 2,
   "metadata": {},
   "outputs": [
    {
     "name": "stderr",
     "output_type": "stream",
     "text": [
      "/Users/DToma/miniconda3/envs/pyml/lib/python3.11/site-packages/transformers/tokenization_utils_base.py:1617: FutureWarning: `clean_up_tokenization_spaces` was not set. It will be set to `True` by default. This behavior will be deprecated in transformers v4.45, and will be then set to `False` by default. For more details check this issue: https://github.com/huggingface/transformers/issues/31884\n",
      "  warnings.warn(\n"
     ]
    }
   ],
   "source": [
    "model = SentenceTransformer(\"sentence-transformers/paraphrase-multilingual-MiniLM-L12-v2\")"
   ]
  },
  {
   "cell_type": "code",
   "execution_count": 44,
   "metadata": {},
   "outputs": [],
   "source": [
    "tokens = model.tokenizer(['dddd','dddddsd'], padding=True, truncation=True)\n",
    "# model(tokens)\n",
    "import torch\n",
    "\n",
    "for k,v in tokens.items():\n",
    "    tokens[k] = torch.tensor(v).to('mps')\n",
    "tokens.pop('token_type_ids')\n",
    "output = model(tokens)\n",
    "\n"
   ]
  },
  {
   "cell_type": "code",
   "execution_count": 49,
   "metadata": {},
   "outputs": [
    {
     "data": {
      "text/plain": [
       "<bound method BatchEncoding.keys of {'input_ids': tensor([[   0,    6, 4028, 4028,    2,    1,    1],\n",
       "        [   0,  104, 4028, 4028,    7,   71,    2]], device='mps:0'), 'attention_mask': tensor([[1, 1, 1, 1, 1, 0, 0],\n",
       "        [1, 1, 1, 1, 1, 1, 1]], device='mps:0'), 'token_embeddings': tensor([[[-2.4007e-01,  1.2291e-01,  1.5371e-02,  ...,  1.5044e-01,\n",
       "           4.8351e-02,  1.8046e-01],\n",
       "         [-7.1232e-01,  1.7057e-02, -8.4404e-02,  ...,  8.8616e-02,\n",
       "          -1.6265e-01,  4.9053e-01],\n",
       "         [ 3.0464e-02,  9.4459e-02,  2.1534e-01,  ..., -3.3608e-04,\n",
       "           3.0849e-01,  1.1893e-01],\n",
       "         ...,\n",
       "         [-2.4037e-01,  1.2362e-01,  1.6160e-02,  ...,  1.5071e-01,\n",
       "           4.7008e-02,  1.8102e-01],\n",
       "         [-1.1718e-01,  1.1169e-01,  2.1693e-02,  ...,  1.0471e-01,\n",
       "           2.4098e-02,  4.7576e-01],\n",
       "         [-7.5265e-02,  1.5574e-01,  4.6872e-02,  ...,  1.1901e-01,\n",
       "           4.7417e-02,  4.7945e-01]],\n",
       "\n",
       "        [[-4.0009e-01,  1.3121e-01,  1.3415e-01,  ..., -3.8679e-02,\n",
       "          -3.1513e-03,  3.9945e-02],\n",
       "         [-6.8664e-02,  1.8641e-01,  3.4976e-01,  ..., -9.2003e-02,\n",
       "           1.4428e-01,  2.9308e-02],\n",
       "         [-1.5274e-01,  2.3806e-01,  2.1092e-01,  ..., -1.8288e-01,\n",
       "           5.0400e-01,  2.3660e-01],\n",
       "         ...,\n",
       "         [-5.2260e-01, -7.1193e-02, -1.4779e-02,  ..., -6.2722e-02,\n",
       "           2.8046e-01,  3.8618e-01],\n",
       "         [-1.0024e+00, -1.6417e-01,  2.5781e-01,  ..., -5.5931e-02,\n",
       "          -2.9619e-02,  4.6683e-01],\n",
       "         [-4.0062e-01,  1.3226e-01,  1.3502e-01,  ..., -3.8292e-02,\n",
       "          -4.3734e-03,  4.0904e-02]]], device='mps:0',\n",
       "       grad_fn=<NativeLayerNormBackward0>), 'sentence_embedding': tensor([[-2.8101e-01,  7.4941e-02,  7.8196e-02, -3.7113e-01,  1.0745e-01,\n",
       "         -4.0522e-02, -2.7026e-02,  2.7089e-01, -8.4729e-02, -1.4549e-02,\n",
       "          1.4231e-01,  1.2428e-02,  2.1195e-01, -2.1595e-01, -2.9790e-01,\n",
       "         -5.2793e-02,  2.3830e-02, -4.8700e-02,  3.8518e-01,  5.3867e-02,\n",
       "          1.6767e-02,  1.3833e-01,  6.9320e-02, -3.2261e-01, -8.3455e-02,\n",
       "          1.4797e-01,  4.6277e-01,  6.1249e-02, -2.1050e-01, -4.7359e-01,\n",
       "          2.7025e-01,  1.8131e-01, -2.8806e-01,  2.3623e-01,  3.0259e-01,\n",
       "         -1.1384e-01,  3.4150e-03, -9.4947e-02,  1.6580e-01, -2.2482e-01,\n",
       "          2.3413e-01, -2.8314e-01,  3.6547e-01,  4.1767e-02, -2.1059e-01,\n",
       "          8.0382e-02, -3.0041e-01, -6.5247e-02, -5.9577e-02, -7.8546e-03,\n",
       "          4.8683e-01,  2.7706e-02,  1.8404e-01,  6.1586e-02,  1.1553e-01,\n",
       "          2.4853e-01,  1.5545e-01,  1.7975e-01, -4.0659e-01,  1.4451e-01,\n",
       "         -4.1960e-01,  2.3808e-01, -4.5399e-01,  2.3525e-01, -3.7881e-02,\n",
       "          3.4616e-01,  3.1072e-01, -2.3141e-01,  2.3163e-03, -2.2435e-02,\n",
       "         -4.7418e-01, -8.3151e-02, -1.5275e-01,  8.9998e-03,  1.1260e-01,\n",
       "          3.1067e-03, -2.2423e-01, -8.2255e-02,  3.0656e-01, -4.3767e-01,\n",
       "         -9.0373e-02,  5.1997e-01, -3.5766e-01,  1.7402e-01, -1.5055e-01,\n",
       "         -5.8166e-02,  1.2923e-01,  2.3309e-01, -6.5143e-02,  2.7347e-02,\n",
       "         -1.0132e-02, -2.0270e-01, -3.8676e-01, -1.6038e-01, -3.2973e-01,\n",
       "          1.2275e-01,  1.8517e-02, -1.0136e-02,  9.4587e-02,  1.5941e+00,\n",
       "         -2.6078e-01,  1.7584e-01, -5.8580e-01, -1.6449e-01, -3.0789e-01,\n",
       "         -3.2608e-02,  2.3081e-01, -4.6641e-02, -2.9899e-01, -1.9029e-01,\n",
       "         -1.5678e-01, -5.8470e-02, -7.9930e-02,  2.9436e-02,  3.4299e-01,\n",
       "         -2.0578e-01, -3.0861e-01,  1.1148e-01,  4.9111e-03, -3.7792e-01,\n",
       "         -5.9364e-02, -3.9680e-02, -2.1789e-01,  1.5073e-01,  2.0369e-01,\n",
       "         -7.5690e-01,  8.6445e-02,  7.1000e-02,  1.5177e-01, -1.2312e-01,\n",
       "         -9.6350e-03, -2.4526e-01, -1.5525e-02,  2.3125e-01,  1.4395e-01,\n",
       "          1.0667e-01, -6.4509e-02,  1.2280e-02, -2.7855e-01, -3.2147e-01,\n",
       "         -1.1710e-01,  8.0784e-02, -1.6098e-02, -5.1126e-02, -1.3691e-01,\n",
       "          2.6917e-01, -2.1381e-01,  6.8544e-02, -1.4953e-01,  1.3282e-01,\n",
       "          4.0031e-01, -2.5973e-01, -1.4975e-01, -9.9981e-02, -3.4333e-01,\n",
       "          1.2655e-01,  7.2160e-01, -4.0769e-02,  2.0214e-01,  2.2431e-01,\n",
       "         -3.0783e-01, -7.2322e-02, -7.5742e-02,  3.5133e-01, -2.5077e-01,\n",
       "         -1.0796e-01, -8.4555e-02, -7.6872e-02,  2.0179e-01, -5.3212e-03,\n",
       "          9.1027e-02, -1.4085e-01, -2.8058e-01,  1.3285e-01,  2.2353e-01,\n",
       "         -5.3490e-01, -1.5811e-01, -1.3993e-03, -4.4979e-02, -2.7397e-01,\n",
       "          8.2221e-02,  4.4272e-02,  6.2944e-02,  1.7146e-01, -5.6816e-02,\n",
       "          1.8857e-02,  1.3629e-01,  1.7661e-01, -1.9245e-01,  2.1421e-01,\n",
       "         -2.1351e-01, -2.8110e-01,  9.1585e-02, -2.9372e-03,  1.1519e-01,\n",
       "         -3.8444e-01,  4.8479e-01, -1.4914e-01,  4.1791e-01, -1.1751e-01,\n",
       "          9.3494e-02, -1.3136e-01, -3.3160e-01, -1.1706e-01,  2.3576e-01,\n",
       "         -1.3361e-02, -1.8208e-01, -2.1177e-01, -2.2941e-01, -1.1919e-01,\n",
       "         -1.8968e-01,  1.0673e-01,  3.5242e-01,  2.1697e-01, -6.4639e-02,\n",
       "          1.8950e-01, -4.2349e-01, -7.9469e-02,  4.6702e-02, -1.9907e-02,\n",
       "          2.1405e-01, -1.1942e-01,  3.3143e-02, -3.5430e-01, -8.0625e-02,\n",
       "          3.5900e-01, -2.0654e-01, -2.3475e-01, -5.0296e-02,  2.4518e-01,\n",
       "         -5.7470e-02, -1.0557e-01,  1.7557e-01, -2.1559e-02, -4.6999e-01,\n",
       "         -3.7810e-04, -2.9582e-01, -2.3067e-02, -7.2021e-02, -4.2165e-02,\n",
       "         -6.1662e-02, -3.8692e-01, -3.1692e-02,  5.2693e-01, -7.9746e-02,\n",
       "          2.2195e-01, -2.3706e-01,  8.1775e-01,  3.9524e-01,  1.7482e-01,\n",
       "         -4.9170e-01,  2.1903e-01, -2.1671e-01, -1.3406e-01,  3.2878e-01,\n",
       "         -5.6104e-02, -2.6580e-01,  8.0146e-02, -1.0559e-01, -2.8014e-01,\n",
       "          3.3028e-01,  1.8047e-01, -1.5466e-01, -1.5423e-02,  1.5382e-01,\n",
       "         -4.6512e-01, -4.6473e-02,  4.0921e-01,  2.4949e-01, -5.9413e-02,\n",
       "         -3.8975e-01, -1.0521e-01,  3.4945e-01,  4.6079e-01, -3.4022e-01,\n",
       "         -2.4995e-01,  3.1915e-01, -7.9322e-02,  3.8162e-01,  2.1754e-03,\n",
       "         -2.8783e-01, -2.4029e-03,  3.0961e-01, -1.3820e-01,  1.7218e-01,\n",
       "         -8.3660e-03, -3.2529e-01, -7.6462e-02, -6.4561e-01,  1.1089e-01,\n",
       "          4.8320e-02,  1.2475e-01,  1.8805e-01, -1.4100e-01,  4.8249e-03,\n",
       "         -1.5787e-01,  1.0445e-01,  8.4827e-02,  3.1483e-02, -4.8889e-01,\n",
       "         -1.1113e-01, -4.3708e-01,  6.3882e-02,  5.0412e-01,  2.3425e-01,\n",
       "          1.3208e-01, -1.1173e-01,  1.4264e-01, -1.6702e-01, -1.8308e-01,\n",
       "          1.4554e-01, -3.1090e-01, -2.1302e-01, -2.8309e-02, -3.4931e-01,\n",
       "          1.8944e-01, -3.1197e-01,  4.0652e-01, -1.7989e-01, -6.0474e-01,\n",
       "         -3.3909e-02, -1.6580e-01, -1.8288e-01,  1.0201e-01,  2.6431e-01,\n",
       "         -3.7461e-01, -1.5120e-01,  3.1951e-01,  2.1272e-01, -1.8610e-01,\n",
       "          3.1084e-01, -6.6073e-02,  1.0246e-01,  6.0451e-02,  1.6958e-01,\n",
       "          1.8398e-01,  1.9125e-01,  1.6336e-01, -2.3098e-01, -1.5539e-01,\n",
       "          2.5042e-01,  9.2089e-02,  1.0521e-01, -1.3982e-01,  5.8926e-02,\n",
       "          3.8629e-01,  2.9158e-01, -1.1572e-01,  1.8976e-02, -2.2967e-01,\n",
       "          3.8633e-01,  8.0117e-02,  2.0899e-02,  4.0859e-01,  2.7719e-01,\n",
       "          3.7131e-01,  6.0786e-02,  4.2512e-01,  1.7391e-01,  5.0939e-01,\n",
       "         -8.5962e-03,  3.5520e-01, -1.3127e-02,  2.7148e-01, -5.3512e-02,\n",
       "          6.9205e-02,  1.0756e-02,  2.5122e-01,  3.6315e-01, -1.4417e-01,\n",
       "         -6.8127e-02,  2.4825e-02, -1.6872e-01, -1.2790e-02,  9.4801e-03,\n",
       "          4.5085e-02,  7.6304e-02, -7.3017e-02, -4.2433e-01,  2.6254e-01,\n",
       "         -9.4445e-02,  8.0094e-02,  7.8902e-02,  2.9621e-01],\n",
       "        [-3.9441e-01,  8.6176e-02,  1.5681e-01, -2.6118e-01,  1.1451e-01,\n",
       "         -4.3359e-02,  6.1913e-02,  2.2383e-01, -2.4069e-01,  5.4721e-02,\n",
       "          8.3817e-02,  6.7355e-02,  1.4488e-01, -1.1054e-01, -9.2698e-02,\n",
       "          6.3703e-02,  6.1194e-02,  3.5312e-02,  2.4154e-01,  8.9976e-02,\n",
       "          5.0772e-02,  8.1413e-02,  1.8839e-01, -2.8691e-01,  1.0974e-01,\n",
       "          1.0889e-01,  3.0033e-01, -5.9408e-02, -1.5169e-01, -4.3931e-01,\n",
       "          3.0301e-01,  6.6931e-02, -5.0215e-02,  5.3932e-02,  2.3439e-01,\n",
       "         -8.0513e-02, -6.6256e-02, -2.1762e-02,  1.2971e-01, -1.3619e-01,\n",
       "          1.3680e-01, -1.3900e-01,  1.5399e-01,  3.1928e-02, -1.6732e-01,\n",
       "          5.8519e-02, -3.4086e-01,  6.5735e-02, -1.2667e-01,  1.3264e-01,\n",
       "          5.3547e-01, -5.6776e-02,  1.5864e-01, -1.3257e-01,  2.3475e-01,\n",
       "          2.0014e-01,  1.5453e-02, -4.9247e-04, -2.5971e-01,  1.7347e-01,\n",
       "         -2.9715e-01,  2.0588e-01, -3.0071e-01,  1.2571e-01,  1.1846e-01,\n",
       "          4.1280e-01,  3.9855e-01, -2.1428e-01,  2.7727e-02, -3.5736e-03,\n",
       "         -4.2364e-01, -7.5460e-02, -1.6360e-01, -1.3611e-01,  1.4767e-01,\n",
       "         -1.3163e-02, -1.6411e-01, -7.1609e-02,  1.7160e-01, -3.9392e-01,\n",
       "         -1.5443e-01,  3.4557e-01, -2.8383e-01,  1.8791e-01, -1.3070e-01,\n",
       "         -1.4488e-01,  2.1281e-01,  2.1205e-01, -1.1692e-01,  3.0377e-03,\n",
       "         -7.8231e-02, -3.0928e-01, -2.6847e-01, -1.9431e-01, -5.8437e-01,\n",
       "          2.0056e-01,  7.8587e-02, -2.4223e-02,  6.9818e-02,  1.1514e+00,\n",
       "         -2.2000e-01,  1.2996e-01, -4.5076e-01, -4.1521e-02, -2.2836e-01,\n",
       "         -2.6171e-02,  1.6001e-01,  5.6384e-02, -2.7031e-01, -6.3905e-02,\n",
       "         -9.0741e-02, -6.2923e-03,  3.5740e-03,  3.3321e-02,  3.4880e-01,\n",
       "         -1.8884e-01, -2.0245e-01,  1.1993e-01, -1.2170e-01, -2.2585e-01,\n",
       "          5.2902e-02,  1.6469e-02, -1.3404e-01,  2.8824e-01,  1.2626e-01,\n",
       "         -5.2146e-01,  1.1710e-01,  1.2644e-01,  2.0295e-01, -2.0420e-01,\n",
       "          6.2322e-02,  4.2454e-02, -4.6929e-03,  1.2541e-01, -5.2913e-02,\n",
       "          1.2668e-01, -1.2731e-01,  4.4414e-02, -2.2391e-01, -3.2499e-01,\n",
       "         -1.4687e-01,  2.1018e-01, -6.4956e-02, -4.6983e-02, -8.7482e-02,\n",
       "          2.2726e-01, -1.8347e-01,  1.5756e-01, -1.4866e-01,  3.3267e-01,\n",
       "          3.1615e-01, -3.1719e-01,  3.4389e-02, -1.6022e-01, -2.1869e-01,\n",
       "          1.0879e-01,  7.3375e-01,  4.9086e-04,  1.5223e-01, -1.8469e-02,\n",
       "         -3.2308e-01, -1.5694e-02, -1.1407e-02,  1.7624e-01, -1.4825e-01,\n",
       "         -9.2527e-03, -3.5417e-02, -5.0312e-03,  1.4251e-01, -2.9651e-02,\n",
       "          2.4740e-02, -1.5922e-01, -1.4027e-01,  2.0925e-01,  2.1098e-01,\n",
       "         -4.5420e-01, -3.2947e-01, -1.1532e-02, -6.3360e-02, -1.7861e-01,\n",
       "          1.5503e-01,  9.9022e-02, -6.5705e-02,  1.2417e-01, -8.2916e-02,\n",
       "         -3.6672e-02,  1.7840e-01,  9.4942e-02, -8.0180e-02,  1.8030e-01,\n",
       "         -1.7381e-01, -4.2348e-01, -1.9096e-01, -1.8961e-02, -1.6146e-02,\n",
       "         -3.9948e-01,  3.5992e-01, -1.2567e-01,  3.1392e-01, -4.1457e-02,\n",
       "         -4.2973e-02, -5.9523e-02, -3.2004e-01, -1.4076e-01,  2.0378e-01,\n",
       "         -6.9025e-04, -2.5132e-01, -3.1286e-01, -2.6244e-01, -1.2919e-01,\n",
       "         -1.6228e-01,  2.5684e-01,  3.4663e-01,  1.7067e-01, -7.4785e-02,\n",
       "          1.4821e-01, -4.4746e-01, -9.5894e-02, -3.8592e-02,  1.7558e-02,\n",
       "          2.4687e-01, -2.4507e-01,  2.2558e-01, -4.2656e-01, -1.0585e-01,\n",
       "          3.4009e-01, -1.6471e-01, -2.3455e-01,  2.6626e-02,  2.1060e-01,\n",
       "         -1.7952e-01, -5.0713e-02,  1.3870e-01,  5.5361e-02, -3.8158e-01,\n",
       "         -2.9067e-03, -4.4462e-01, -2.3099e-02, -2.4126e-02,  9.6754e-02,\n",
       "         -1.1218e-01, -4.2745e-01, -1.0097e-01,  2.3906e-01, -2.9434e-01,\n",
       "          4.8613e-01, -1.6242e-01,  7.0175e-01,  3.0755e-01,  3.1140e-01,\n",
       "         -4.7771e-01,  1.7956e-01, -1.8729e-01, -1.7954e-01,  2.3410e-01,\n",
       "         -5.8806e-02, -1.7774e-01,  1.0584e-01, -8.1430e-02, -2.3005e-01,\n",
       "          3.1125e-01,  2.0383e-01, -2.2031e-01,  2.3666e-02,  1.6558e-01,\n",
       "         -4.8534e-01,  5.2340e-02,  3.9403e-01,  2.6640e-01,  2.0349e-02,\n",
       "         -4.5571e-01, -1.1934e-01,  3.8240e-01,  3.9946e-01, -3.6999e-01,\n",
       "         -2.0337e-01,  2.7948e-01,  1.8427e-02,  2.4246e-01, -4.9866e-02,\n",
       "         -6.4237e-02, -1.0276e-01,  1.4135e-01, -1.4616e-01,  2.7974e-02,\n",
       "         -7.0180e-02, -2.3141e-01, -1.7175e-01, -6.4544e-01,  8.0438e-02,\n",
       "         -4.6793e-02,  6.2439e-02,  2.2604e-01, -1.6466e-01, -8.4415e-02,\n",
       "         -4.6656e-03,  7.6791e-02,  9.6572e-02,  1.9059e-02, -2.5833e-01,\n",
       "         -1.7562e-01, -3.8565e-01,  1.3982e-01,  4.6635e-01,  1.4956e-01,\n",
       "          5.3524e-02,  4.5043e-02,  2.4441e-01, -1.8250e-01, -2.5133e-01,\n",
       "          3.1801e-01, -3.3124e-01, -1.6488e-01, -2.1255e-02, -3.5595e-01,\n",
       "          2.7149e-01, -1.8756e-01,  4.7707e-01, -3.4598e-02, -6.3526e-01,\n",
       "          4.9355e-02, -1.1361e-01, -3.8717e-01,  1.6765e-01,  3.4752e-01,\n",
       "         -2.7323e-01, -1.5681e-01,  3.7559e-01,  1.3293e-01, -1.0548e-03,\n",
       "          2.1223e-01,  8.9299e-02,  5.9586e-02,  1.1037e-01,  1.5856e-01,\n",
       "         -3.0757e-02,  2.1215e-01,  2.4879e-01, -3.7515e-01, -1.9053e-01,\n",
       "          2.1899e-01,  1.0430e-01,  2.0691e-02, -1.0515e-01, -1.1038e-02,\n",
       "          1.9476e-01,  3.7689e-01, -2.2261e-01, -5.2170e-03, -1.5795e-01,\n",
       "          3.3514e-01,  8.1594e-02, -8.8686e-02,  3.4199e-01,  2.0453e-01,\n",
       "          3.4240e-01,  9.5155e-02,  3.4422e-01,  1.5870e-01,  4.4655e-01,\n",
       "          1.3133e-01,  2.8437e-01,  2.8951e-02,  3.3153e-01, -9.2897e-02,\n",
       "         -9.1049e-02,  1.1949e-01,  1.6154e-01,  3.2812e-01, -3.4175e-02,\n",
       "         -7.0872e-02,  8.0869e-02, -1.2863e-01,  8.1011e-02,  2.7737e-02,\n",
       "         -3.9869e-02,  1.1165e-01, -5.0961e-02, -5.3858e-01,  3.1574e-01,\n",
       "         -3.2725e-01, -6.8249e-02,  1.7668e-01,  2.1691e-01]], device='mps:0',\n",
       "       grad_fn=<CatBackward0>)}>"
      ]
     },
     "execution_count": 49,
     "metadata": {},
     "output_type": "execute_result"
    }
   ],
   "source": [
    "output['sentence_embedding'].shape\n",
    "output.keys"
   ]
  },
  {
   "cell_type": "code",
   "execution_count": 56,
   "metadata": {},
   "outputs": [
    {
     "data": {
      "text/plain": [
       "tensor([[-0.0077, -0.0007, -0.0048,  ..., -0.0184,  0.0219,  0.0019],\n",
       "        [ 0.0223,  0.0060, -0.0005,  ..., -0.0176,  0.0140,  0.0122],\n",
       "        [-0.0113,  0.0110,  0.0024,  ..., -0.0030,  0.0144,  0.0019],\n",
       "        ...,\n",
       "        [ 0.0181, -0.0058,  0.0172,  ..., -0.0180,  0.0059,  0.0012],\n",
       "        [-0.0154,  0.0136, -0.0042,  ..., -0.0144,  0.0120,  0.0085],\n",
       "        [-0.0016, -0.0049,  0.0032,  ..., -0.0096,  0.0114, -0.0010]],\n",
       "       device='mps:0')"
      ]
     },
     "execution_count": 56,
     "metadata": {},
     "output_type": "execute_result"
    }
   ],
   "source": [
    "model.state_dict()['0.auto_model.embeddings.word_embeddings.weight']"
   ]
  },
  {
   "cell_type": "code",
   "execution_count": 72,
   "metadata": {},
   "outputs": [
    {
     "data": {
      "text/plain": [
       "tensor([[True, True, True, True, True, True, True, True, True, True, True, True,\n",
       "         True, True, True, True, True, True, True, True, True, True, True, True,\n",
       "         True, True, True, True, True, True, True, True, True, True, True, True,\n",
       "         True, True, True, True, True, True, True, True, True, True, True, True,\n",
       "         True, True, True, True, True, True, True, True, True, True, True, True,\n",
       "         True, True, True, True, True, True, True, True, True, True, True, True,\n",
       "         True, True, True, True, True, True, True, True, True, True, True, True,\n",
       "         True, True, True, True, True, True, True, True, True, True, True, True,\n",
       "         True, True, True, True, True, True, True, True, True, True, True, True,\n",
       "         True, True, True, True, True, True, True, True, True, True, True, True,\n",
       "         True, True, True, True, True, True, True, True, True, True, True, True,\n",
       "         True, True, True, True, True, True, True, True, True, True, True, True,\n",
       "         True, True, True, True, True, True, True, True, True, True, True, True,\n",
       "         True, True, True, True, True, True, True, True, True, True, True, True,\n",
       "         True, True, True, True, True, True, True, True, True, True, True, True,\n",
       "         True, True, True, True, True, True, True, True, True, True, True, True,\n",
       "         True, True, True, True, True, True, True, True, True, True, True, True,\n",
       "         True, True, True, True, True, True, True, True, True, True, True, True,\n",
       "         True, True, True, True, True, True, True, True, True, True, True, True,\n",
       "         True, True, True, True, True, True, True, True, True, True, True, True,\n",
       "         True, True, True, True, True, True, True, True, True, True, True, True,\n",
       "         True, True, True, True, True, True, True, True, True, True, True, True,\n",
       "         True, True, True, True, True, True, True, True, True, True, True, True,\n",
       "         True, True, True, True, True, True, True, True, True, True, True, True,\n",
       "         True, True, True, True, True, True, True, True, True, True, True, True,\n",
       "         True, True, True, True, True, True, True, True, True, True, True, True,\n",
       "         True, True, True, True, True, True, True, True, True, True, True, True,\n",
       "         True, True, True, True, True, True, True, True, True, True, True, True,\n",
       "         True, True, True, True, True, True, True, True, True, True, True, True,\n",
       "         True, True, True, True, True, True, True, True, True, True, True, True,\n",
       "         True, True, True, True, True, True, True, True, True, True, True, True,\n",
       "         True, True, True, True, True, True, True, True, True, True, True, True],\n",
       "        [True, True, True, True, True, True, True, True, True, True, True, True,\n",
       "         True, True, True, True, True, True, True, True, True, True, True, True,\n",
       "         True, True, True, True, True, True, True, True, True, True, True, True,\n",
       "         True, True, True, True, True, True, True, True, True, True, True, True,\n",
       "         True, True, True, True, True, True, True, True, True, True, True, True,\n",
       "         True, True, True, True, True, True, True, True, True, True, True, True,\n",
       "         True, True, True, True, True, True, True, True, True, True, True, True,\n",
       "         True, True, True, True, True, True, True, True, True, True, True, True,\n",
       "         True, True, True, True, True, True, True, True, True, True, True, True,\n",
       "         True, True, True, True, True, True, True, True, True, True, True, True,\n",
       "         True, True, True, True, True, True, True, True, True, True, True, True,\n",
       "         True, True, True, True, True, True, True, True, True, True, True, True,\n",
       "         True, True, True, True, True, True, True, True, True, True, True, True,\n",
       "         True, True, True, True, True, True, True, True, True, True, True, True,\n",
       "         True, True, True, True, True, True, True, True, True, True, True, True,\n",
       "         True, True, True, True, True, True, True, True, True, True, True, True,\n",
       "         True, True, True, True, True, True, True, True, True, True, True, True,\n",
       "         True, True, True, True, True, True, True, True, True, True, True, True,\n",
       "         True, True, True, True, True, True, True, True, True, True, True, True,\n",
       "         True, True, True, True, True, True, True, True, True, True, True, True,\n",
       "         True, True, True, True, True, True, True, True, True, True, True, True,\n",
       "         True, True, True, True, True, True, True, True, True, True, True, True,\n",
       "         True, True, True, True, True, True, True, True, True, True, True, True,\n",
       "         True, True, True, True, True, True, True, True, True, True, True, True,\n",
       "         True, True, True, True, True, True, True, True, True, True, True, True,\n",
       "         True, True, True, True, True, True, True, True, True, True, True, True,\n",
       "         True, True, True, True, True, True, True, True, True, True, True, True,\n",
       "         True, True, True, True, True, True, True, True, True, True, True, True,\n",
       "         True, True, True, True, True, True, True, True, True, True, True, True,\n",
       "         True, True, True, True, True, True, True, True, True, True, True, True,\n",
       "         True, True, True, True, True, True, True, True, True, True, True, True,\n",
       "         True, True, True, True, True, True, True, True, True, True, True, True]],\n",
       "       device='mps:0')"
      ]
     },
     "execution_count": 72,
     "metadata": {},
     "output_type": "execute_result"
    }
   ],
   "source": [
    "model[1](tokens)['sentence_embedding']==model[0](tokens)['sentence_embedding']"
   ]
  },
  {
   "cell_type": "code",
   "execution_count": null,
   "metadata": {},
   "outputs": [],
   "source": []
  }
 ],
 "metadata": {
  "kernelspec": {
   "display_name": "pyml",
   "language": "python",
   "name": "python3"
  },
  "language_info": {
   "codemirror_mode": {
    "name": "ipython",
    "version": 3
   },
   "file_extension": ".py",
   "mimetype": "text/x-python",
   "name": "python",
   "nbconvert_exporter": "python",
   "pygments_lexer": "ipython3",
   "version": "3.11.8"
  }
 },
 "nbformat": 4,
 "nbformat_minor": 2
}
