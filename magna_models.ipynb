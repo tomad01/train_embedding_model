{
 "cells": [
  {
   "cell_type": "code",
   "execution_count": 3,
   "metadata": {},
   "outputs": [
    {
     "name": "stderr",
     "output_type": "stream",
     "text": [
      "100%|██████████| 7/7 [00:02<00:00,  3.13it/s]\n"
     ]
    },
    {
     "name": "stdout",
     "output_type": "stream",
     "text": [
      "140321\n"
     ]
    }
   ],
   "source": [
    "import pandas as pd\n",
    "import json, os\n",
    "from tqdm import tqdm\n",
    "\n",
    "path = \"/Users/DToma/data/Rhenus_StartingFrom_20240101_20240701\"\n",
    "\n",
    "file = \"response_07-2024.json\"\n",
    "\n",
    "data = []\n",
    "for file in tqdm(os.listdir(path)):\n",
    "  if file.endswith(\".json\"):\n",
    "    with open(os.path.join(path, file), \"r\") as f:\n",
    "        data.extend(json.load(f))\n",
    "print(len(data))\n",
    "data = pd.DataFrame(data)"
   ]
  },
  {
   "cell_type": "code",
   "execution_count": 4,
   "metadata": {},
   "outputs": [
    {
     "data": {
      "text/plain": [
       "Index(['TicketNr', 'TicketSummary', 'TicketDescription', 'CreatedAt',\n",
       "       'CreatedByID', 'CreatedByString', 'ImpactedUser', 'ImpactedUserString',\n",
       "       'AssignedToID', 'AssignedToString', 'RecipientRoleID',\n",
       "       'RecipientRoleString', 'ImpactValue', 'ImpactString', 'UrgencyValue',\n",
       "       'UrgencyString', 'PriorityValue', 'PriorityString', 'StatusValue',\n",
       "       'StatusString', 'EntryByValue', 'EntryByString', 'ServiceAffected',\n",
       "       'ServiceAffectedPortalName', 'AssetAffected', 'AssetAffectedName',\n",
       "       'ServiceReported', 'ServiceReportedPortalName', 'AssetReported',\n",
       "       'AssetReportedName', 'SLAID', 'SLAString', 'Type',\n",
       "       'Expression-TypeCase', 'Expression-TypeID'],\n",
       "      dtype='object')"
      ]
     },
     "execution_count": 4,
     "metadata": {},
     "output_type": "execute_result"
    }
   ],
   "source": [
    "data.columns"
   ]
  },
  {
   "cell_type": "code",
   "execution_count": 5,
   "metadata": {},
   "outputs": [
    {
     "name": "stdout",
     "output_type": "stream",
     "text": [
      "\n",
      "\n",
      "ServiceAffected: unique items: 1011 missing values percent: 9.998503431417964%\n",
      "ServiceAffectedPortalName: unique items: 891 missing values percent: 42.672158835812176%\n",
      "ServiceReported: unique items: 692 missing values percent: 3.3708425681116867%\n",
      "ServiceReportedPortalName: unique items: 598 missing values percent: 37.897392407408724%\n"
     ]
    }
   ],
   "source": [
    "cnt = 1 \n",
    "for col in data.columns:\n",
    "    # if col in ['SLAString', 'SLAID']:\n",
    "    #     print(f\"{col}: unique items: {data[col].nunique()} missing values percent: {data[col].isna().sum()*100/len(data)}%\")\n",
    "    # if col in ['TicketSummary', 'TicketDescription', 'CreatedAt','ServiceAffected','ImpactString','UrgencyString']:\n",
    "    #     print(f\"{col}: unique items: {data[col].nunique()} missing values percent: {data[col].isna().sum()*100/len(data)}%\")\n",
    "    # if col in ['EntryByValue', 'EntryByString','CreatedByID', 'CreatedByString', 'ImpactedUser', 'ImpactedUserString','AssignedToID', 'AssignedToString', 'RecipientRoleID','RecipientRoleString']:\n",
    "    #     print(f\"{col}: unique items: {data[col].nunique()} missing values percent: {data[col].isna().sum()*100/len(data)}%\")\n",
    "\n",
    "    if col in [ 'ServiceAffected','ServiceAffectedPortalName','ServiceReported', 'ServiceReportedPortalName']:\n",
    "        if cnt:\n",
    "            print(\"\\n\")\n",
    "            cnt = 0\n",
    "        print(f\"{col}: unique items: {data[col].nunique()} missing values percent: {data[col].isna().sum()*100/len(data)}%\")"
   ]
  },
  {
   "cell_type": "code",
   "execution_count": 5,
   "metadata": {},
   "outputs": [
    {
     "data": {
      "text/plain": [
       "ServiceAffectedPortalName\n",
       "RSD-IT-Support                  10245\n",
       "SAP                              3647\n",
       "Mail Service mit Lotus Notes     3621\n",
       "FGER-LWIS                        3370\n",
       "FGER-LOXX Standard               3025\n",
       "RAS-SUPPORT                      2667\n",
       "FEU-PL-TMS-General               2390\n",
       "RML-Network                      2247\n",
       "FEU-PL General                   1657\n",
       "RSND-Einkauf                     1562\n",
       "Name: count, dtype: int64"
      ]
     },
     "execution_count": 5,
     "metadata": {},
     "output_type": "execute_result"
    }
   ],
   "source": [
    "data['ServiceAffectedPortalName'].value_counts()[:10]"
   ]
  },
  {
   "cell_type": "code",
   "execution_count": 4,
   "metadata": {},
   "outputs": [
    {
     "data": {
      "text/plain": [
       "UrgencyString\n",
       "C: Continued work is possible                     73747\n",
       "B: Continued work is possible with limitations    63287\n",
       "A: Continued work is not possible                  3287\n",
       "Name: count, dtype: int64"
      ]
     },
     "execution_count": 4,
     "metadata": {},
     "output_type": "execute_result"
    }
   ],
   "source": [
    "data['UrgencyString'].value_counts()"
   ]
  },
  {
   "cell_type": "code",
   "execution_count": 5,
   "metadata": {},
   "outputs": [
    {
     "data": {
      "text/plain": [
       "TicketDescription\n",
       "Please use an HTML-capable email client to correctly display this email. Alternatively, switch to 'Text' format in the notification settings.\\r\\n                                                                                                                                                                                                                                                                                                                                                                                                                                                                                                                                                                                                                              3173\n",
       "Empty E-mail Message                                                                                                                                                                                                                                                                                                                                                                                                                                                                                                                                                                                                                                                                                                                                                            300\n",
       "Die Daten befinden sich im Anhang.                                                                                                                                                                                                                                                                                                                                                                                                                                                                                                                                                                                                                                                                                                                                              177\n",
       "Manually Added\\tSuccess\\t\\r\\nAssigned\\t1\\tSuccess\\t1\\tNo new hosts found.\\r\\n\\t\\r\\nSeen\\t1\\tWarnings\\t0\\t\\r\\nUpdated\\t0\\tErrors\\t0\\t\\r\\nName\\tIP address\\tStatus\\tOperating System\\tDetails\\t\\r\\nDEDUI05-WIS002.rhs.zz\\t10.250.25.135\\tSuccess\\tMicrosoft Windows Server 2016 (1607, 64-bit)\\tBackup agent installation is not required\\r\\n  \\t\\r\\n \\t\\r\\n                    Veeam Backup & Replication 12.0.0.1420 P20230718                                                                                                                                                                                                                                                                                                                                                  147\n",
       "Teammeeting IT West/Nord\\r\\n\\r\\n\\r\\nRHSIncidentClassCustom.Melder::standort.dedtm14@matrix.zz;;\\r\\n\\r\\nRHSIncidentClassCustom.customerLocation::DEDTM14;;\\r\\n\\r\\nSPSActivityClassIncident.ServiceAffected::CLSIT-Organisation;;\\r\\n\\r\\nSPSActivityClassIncident.AssetAffected::CLSIT-Meeting;;\\r\\n\\r\\nSPSActivityClassBase.RecipientRole::CLSIT-Onsite_West_Nord;;\\r\\n\\r\\nSPSActivityClassBase.Category::5) Sonstiges;;\\r\\n\\r\\nverbrauchte Zeit: nach Aufwand\\r\\n\\r\\n\\r\\n                                                                                                                                                                                                                                                                                                       128\n",
       "                                                                                                                                                                                                                                                                                                                                                                                                                                                                                                                                                                                                                                                                                                                                                                               ... \n",
       "Sehr geehrte Damen, sehr geehrte Herren,\\r\\n\\r\\nder Auftrag 8456939526164\" konnte auf Grund des folgenden Fehlers nicht an das TMS übertragen werden:\\r\\n\\r\\nAuftragsnummer: 8456939526164\\r\\nMandant: WEWI\\r\\nFehler: OtherError - Xsd Validate failed: The 'TransportType' element is invalid - The value '#' is invalid according to its datatype 'String' - The Enumeration constraint failed.\\r\\n\\r\\nMit freundlichen Grüßen\\r\\nLobster _pro Administrator\\r\\n                                                                                                                                                                                                                                                                                                               1\n",
       "Sehr geehrte Damen, sehr geehrte Herren,\\r\\n\\r\\nder Auftrag 8516761523980\" konnte auf Grund des folgenden Fehlers nicht an das TMS übertragen werden:\\r\\n\\r\\nAuftragsnummer: 8516761523980\\r\\nMandant: WEWI\\r\\nFehler: OtherError - Xsd Validate failed: The 'TransportType' element is invalid - The value '#' is invalid according to its datatype 'String' - The Enumeration constraint failed.\\r\\n\\r\\nMit freundlichen Grüßen\\r\\nLobster _pro Administrator\\r\\n                                                                                                                                                                                                                                                                                                               1\n",
       "Sehr geehrte Damen, sehr geehrte Herren,\\r\\n\\r\\nder Auftrag 8234141526998\" konnte auf Grund des folgenden Fehlers nicht an das TMS übertragen werden:\\r\\n\\r\\nAuftragsnummer: 8234141526998\\r\\nMandant: WEWI\\r\\nFehler: OtherError - Xsd Validate failed: The 'TransportType' element is invalid - The value '#' is invalid according to its datatype 'String' - The Enumeration constraint failed.\\r\\n\\r\\nMit freundlichen Grüßen\\r\\nLobster _pro Administrator\\r\\n                                                                                                                                                                                                                                                                                                               1\n",
       "Sehr geehrte Damen, sehr geehrte Herren,\\r\\n\\r\\nder Auftrag 8678961527896\" konnte auf Grund des folgenden Fehlers nicht an das TMS übertragen werden:\\r\\n\\r\\nAuftragsnummer: 8678961527896\\r\\nMandant: WEWI\\r\\nFehler: OtherError - Xsd Validate failed: The 'TransportType' element is invalid - The value '#' is invalid according to its datatype 'String' - The Enumeration constraint failed.\\r\\n\\r\\nMit freundlichen Grüßen\\r\\nLobster _pro Administrator\\r\\n                                                                                                                                                                                                                                                                                                               1\n",
       "Asset Clearing WSS IT Team Mitte ( ohne OEG )\\r\\n\\r\\n\\r\\nRHSIncidentClassCustom.Melder::standort.degie12@matrix.zz;;\\r\\n\\r\\nRHSIncidentClassCustom.customerLocation::DEGIE12;;\\r\\n\\r\\nSPSActivityClassIncident.ServiceAffected::CLSIT-Organisation;;\\r\\n\\r\\nSPSActivityClassIncident.AssetAffected::CLSIT-Assets;;\\r\\n\\r\\nSPSActivityClassBase.RecipientRole::CLSIT-Onsite_Mitte;;\\r\\n\\r\\nSPSActivityClassBase.Category::5) Sonstiges;;\\r\\n\\r\\nverbrauchte Zeit: nach Aufwand\\r\\n\\r\\n\\r\\n\\r\\nAsset Clearing - IT Infrastructure INTERN - CL Warehousing Solutions (rhenus.com)\\r\\n\\r\\nhttps://urldefense.com/v3/__https://rhen.us/ESM_AssetClearing__;!!Iy-eiNsJYb8-!T1OKUrVp-GhREL5RPFbLabEpM6e1RYckrSZ6Mna01ZzWoEhgAGYYN5jc2189zzSdDeIWyjQmRO_JhBLTn0Zl0GZ1gqpwCYnQ$ \\r\\n       1\n",
       "Name: count, Length: 114830, dtype: int64"
      ]
     },
     "execution_count": 5,
     "metadata": {},
     "output_type": "execute_result"
    }
   ],
   "source": [
    "data['TicketDescription'].value_counts()"
   ]
  },
  {
   "cell_type": "code",
   "execution_count": 7,
   "metadata": {},
   "outputs": [
    {
     "data": {
      "text/plain": [
       "TicketSummary\n",
       "MATRIX PersonImport                                               936\n",
       "[PRTG Network Monitor] 25 Summarized Notifications                860\n",
       "[DEMHG01_D] Integrator Transaction Failure                        677\n",
       "Sandbox: E-Mail-Vorgangserfassung: Fehler bei der Verarbeitung    648\n",
       "[DENUE01_P] Background service failed                             614\n",
       "                                                                 ... \n",
       "[PROBLEM] Host deulz01-apr057 is DOWN!                              1\n",
       "[PROBLEM] Host deulz01-apr083 is DOWN!                              1\n",
       "[PROBLEM] Host deulz01-apr093 is DOWN!                              1\n",
       "[PROBLEM] Host deulz01-apr164 is DOWN!                              1\n",
       "Asset Clearing WSS IT Team Mitte - Mon 06/24/2024                   1\n",
       "Name: count, Length: 112686, dtype: int64"
      ]
     },
     "execution_count": 7,
     "metadata": {},
     "output_type": "execute_result"
    }
   ],
   "source": [
    "data['TicketSummary'].value_counts()"
   ]
  },
  {
   "cell_type": "code",
   "execution_count": 2,
   "metadata": {},
   "outputs": [
    {
     "name": "stderr",
     "output_type": "stream",
     "text": [
      "/Users/DToma/miniconda3/envs/pyml/lib/python3.11/site-packages/sentence_transformers/cross_encoder/CrossEncoder.py:13: TqdmWarning: IProgress not found. Please update jupyter and ipywidgets. See https://ipywidgets.readthedocs.io/en/stable/user_install.html\n",
      "  from tqdm.autonotebook import tqdm, trange\n"
     ]
    }
   ],
   "source": [
    "from sentence_transformers import SentenceTransformer\n",
    "\n",
    "# model = SentenceTransformer(\"sentence-transformers/paraphrase-multilingual-MiniLM-L12-v2\")\n",
    "model = SentenceTransformer(\"intfloat/multilingual-e5-large-instruct\")"
   ]
  },
  {
   "cell_type": "code",
   "execution_count": null,
   "metadata": {},
   "outputs": [
    {
     "name": "stdout",
     "output_type": "stream",
     "text": [
      "sum of params: 559890432\n"
     ]
    }
   ],
   "source": [
    "print(f\"sum of params: {sum(p.numel() for p in model.parameters())}\")\n",
    "559_890_432"
   ]
  },
  {
   "cell_type": "code",
   "execution_count": 56,
   "metadata": {},
   "outputs": [
    {
     "data": {
      "text/plain": [
       "tensor([[-0.0077, -0.0007, -0.0048,  ..., -0.0184,  0.0219,  0.0019],\n",
       "        [ 0.0223,  0.0060, -0.0005,  ..., -0.0176,  0.0140,  0.0122],\n",
       "        [-0.0113,  0.0110,  0.0024,  ..., -0.0030,  0.0144,  0.0019],\n",
       "        ...,\n",
       "        [ 0.0181, -0.0058,  0.0172,  ..., -0.0180,  0.0059,  0.0012],\n",
       "        [-0.0154,  0.0136, -0.0042,  ..., -0.0144,  0.0120,  0.0085],\n",
       "        [-0.0016, -0.0049,  0.0032,  ..., -0.0096,  0.0114, -0.0010]],\n",
       "       device='mps:0')"
      ]
     },
     "execution_count": 56,
     "metadata": {},
     "output_type": "execute_result"
    }
   ],
   "source": [
    "model.state_dict()['0.auto_model.embeddings.word_embeddings.weight']"
   ]
  },
  {
   "cell_type": "code",
   "execution_count": 72,
   "metadata": {},
   "outputs": [
    {
     "data": {
      "text/plain": [
       "tensor([[True, True, True, True, True, True, True, True, True, True, True, True,\n",
       "         True, True, True, True, True, True, True, True, True, True, True, True,\n",
       "         True, True, True, True, True, True, True, True, True, True, True, True,\n",
       "         True, True, True, True, True, True, True, True, True, True, True, True,\n",
       "         True, True, True, True, True, True, True, True, True, True, True, True,\n",
       "         True, True, True, True, True, True, True, True, True, True, True, True,\n",
       "         True, True, True, True, True, True, True, True, True, True, True, True,\n",
       "         True, True, True, True, True, True, True, True, True, True, True, True,\n",
       "         True, True, True, True, True, True, True, True, True, True, True, True,\n",
       "         True, True, True, True, True, True, True, True, True, True, True, True,\n",
       "         True, True, True, True, True, True, True, True, True, True, True, True,\n",
       "         True, True, True, True, True, True, True, True, True, True, True, True,\n",
       "         True, True, True, True, True, True, True, True, True, True, True, True,\n",
       "         True, True, True, True, True, True, True, True, True, True, True, True,\n",
       "         True, True, True, True, True, True, True, True, True, True, True, True,\n",
       "         True, True, True, True, True, True, True, True, True, True, True, True,\n",
       "         True, True, True, True, True, True, True, True, True, True, True, True,\n",
       "         True, True, True, True, True, True, True, True, True, True, True, True,\n",
       "         True, True, True, True, True, True, True, True, True, True, True, True,\n",
       "         True, True, True, True, True, True, True, True, True, True, True, True,\n",
       "         True, True, True, True, True, True, True, True, True, True, True, True,\n",
       "         True, True, True, True, True, True, True, True, True, True, True, True,\n",
       "         True, True, True, True, True, True, True, True, True, True, True, True,\n",
       "         True, True, True, True, True, True, True, True, True, True, True, True,\n",
       "         True, True, True, True, True, True, True, True, True, True, True, True,\n",
       "         True, True, True, True, True, True, True, True, True, True, True, True,\n",
       "         True, True, True, True, True, True, True, True, True, True, True, True,\n",
       "         True, True, True, True, True, True, True, True, True, True, True, True,\n",
       "         True, True, True, True, True, True, True, True, True, True, True, True,\n",
       "         True, True, True, True, True, True, True, True, True, True, True, True,\n",
       "         True, True, True, True, True, True, True, True, True, True, True, True,\n",
       "         True, True, True, True, True, True, True, True, True, True, True, True],\n",
       "        [True, True, True, True, True, True, True, True, True, True, True, True,\n",
       "         True, True, True, True, True, True, True, True, True, True, True, True,\n",
       "         True, True, True, True, True, True, True, True, True, True, True, True,\n",
       "         True, True, True, True, True, True, True, True, True, True, True, True,\n",
       "         True, True, True, True, True, True, True, True, True, True, True, True,\n",
       "         True, True, True, True, True, True, True, True, True, True, True, True,\n",
       "         True, True, True, True, True, True, True, True, True, True, True, True,\n",
       "         True, True, True, True, True, True, True, True, True, True, True, True,\n",
       "         True, True, True, True, True, True, True, True, True, True, True, True,\n",
       "         True, True, True, True, True, True, True, True, True, True, True, True,\n",
       "         True, True, True, True, True, True, True, True, True, True, True, True,\n",
       "         True, True, True, True, True, True, True, True, True, True, True, True,\n",
       "         True, True, True, True, True, True, True, True, True, True, True, True,\n",
       "         True, True, True, True, True, True, True, True, True, True, True, True,\n",
       "         True, True, True, True, True, True, True, True, True, True, True, True,\n",
       "         True, True, True, True, True, True, True, True, True, True, True, True,\n",
       "         True, True, True, True, True, True, True, True, True, True, True, True,\n",
       "         True, True, True, True, True, True, True, True, True, True, True, True,\n",
       "         True, True, True, True, True, True, True, True, True, True, True, True,\n",
       "         True, True, True, True, True, True, True, True, True, True, True, True,\n",
       "         True, True, True, True, True, True, True, True, True, True, True, True,\n",
       "         True, True, True, True, True, True, True, True, True, True, True, True,\n",
       "         True, True, True, True, True, True, True, True, True, True, True, True,\n",
       "         True, True, True, True, True, True, True, True, True, True, True, True,\n",
       "         True, True, True, True, True, True, True, True, True, True, True, True,\n",
       "         True, True, True, True, True, True, True, True, True, True, True, True,\n",
       "         True, True, True, True, True, True, True, True, True, True, True, True,\n",
       "         True, True, True, True, True, True, True, True, True, True, True, True,\n",
       "         True, True, True, True, True, True, True, True, True, True, True, True,\n",
       "         True, True, True, True, True, True, True, True, True, True, True, True,\n",
       "         True, True, True, True, True, True, True, True, True, True, True, True,\n",
       "         True, True, True, True, True, True, True, True, True, True, True, True]],\n",
       "       device='mps:0')"
      ]
     },
     "execution_count": 72,
     "metadata": {},
     "output_type": "execute_result"
    }
   ],
   "source": [
    "model[1](tokens)['sentence_embedding']==model[0](tokens)['sentence_embedding']"
   ]
  },
  {
   "cell_type": "code",
   "execution_count": null,
   "metadata": {},
   "outputs": [],
   "source": []
  }
 ],
 "metadata": {
  "kernelspec": {
   "display_name": "pyml",
   "language": "python",
   "name": "python3"
  },
  "language_info": {
   "codemirror_mode": {
    "name": "ipython",
    "version": 3
   },
   "file_extension": ".py",
   "mimetype": "text/x-python",
   "name": "python",
   "nbconvert_exporter": "python",
   "pygments_lexer": "ipython3",
   "version": "3.11.8"
  }
 },
 "nbformat": 4,
 "nbformat_minor": 2
}
